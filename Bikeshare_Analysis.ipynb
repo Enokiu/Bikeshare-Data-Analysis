{
 "cells": [
  {
   "cell_type": "markdown",
   "id": "00008947",
   "metadata": {},
   "source": [
    "# Data analysis of trip data from “Capital Bikeshare”"
   ]
  },
  {
   "cell_type": "markdown",
   "id": "93e58da8",
   "metadata": {},
   "source": [
    "**Preface**\n",
    "\n",
    "\"Capital Bikeshare\" is a bikesharing service in Washington D.C. and surrounding communities with currently more than 500 stations and over 4,000 available bicycles. More information about how the program works and an overview of the stations can be found at\n",
    "<a href=\"https://www.capitalbikeshare.com\">www.capitalbikeshare.com</a>.\n",
    "\n",
    "The dataset originally came from the Washington D.C. Open Data Portal:\n",
    "<a href=\"https://opendata.dc.gov/datasets/capital-bike-share-locations\">Capital Bikeshare Locations</a>.\n",
    "This study was first created during my bachelor studies in 2019. I have now reworked and improved it, since many functions from back then are no longer useable. Unfortunately the original dataset is no longer available. \n",
    "\n",
    "The analysis is based on the years 2015 to 2017 using the programming language Python. For visualization this Jupyter Notebook is used. To process the data additional Python modules were installed.\n",
    "\n",
    "The cost overview for Members and Casual users, which is added as images, reflects the current prices in 2025 and no longer those from 2019 when I originally worked on the project. It is also possible that prices have since decreased or increased."
   ]
  },
  {
   "cell_type": "code",
   "execution_count": null,
   "id": "75126b42",
   "metadata": {},
   "outputs": [],
   "source": [
    "# core libs\n",
    "!pip install --upgrade nbformat pandas holidays plotly\n",
    "\n",
    "# widget stack (classic notebook compatible)\n",
    "!pip install \"notebook==6.1.5\" \"widgetsnbextension==3.*\" \"ipywidgets==7.*\" anywidget\n",
    "\n",
    "# enable widgets in classic Notebook\n",
    "!jupyter nbextension enable --py widgetsnbextension --sys-prefix"
   ]
  },
  {
   "cell_type": "markdown",
   "id": "bb5ce3ce",
   "metadata": {},
   "source": [
    "## Import, Clean and Enhance Dataset"
   ]
  },
  {
   "cell_type": "code",
   "execution_count": null,
   "id": "1cdd6290",
   "metadata": {},
   "outputs": [],
   "source": [
    "import pandas as pd\n",
    "\n",
    "# path to dataset\n",
    "data_path = 'data/'\n",
    "\n",
    "# list of zipped data files\n",
    "datas = ['2015-capitalbikeshare-tripdata.zip', '2016-capitalbikeshare-tripdata.zip', '2017-capitalbikeshare-tripdata.zip']\n",
    "\n",
    "# columns to parse as dates\n",
    "parse_to_dates = ['Start date', 'End date']\n",
    "\n",
    "df_list = []\n",
    "\n",
    "# read and append each file to a list\n",
    "for data in datas:\n",
    "    df = pd.read_csv(data_path + data, parse_dates=parse_to_dates, compression='zip')\n",
    "    print(f\"Added: \\\"{data}\\\" [{len(df)}]\")\n",
    "    df_list.append(df)\n",
    "\n",
    "# correct incorrect indexes\n",
    "df_trips = pd.concat(df_list, ignore_index=True)\n",
    "print(\"Total records:\", len(df_trips))"
   ]
  },
  {
   "cell_type": "code",
   "execution_count": null,
   "id": "ffe8eef8",
   "metadata": {},
   "outputs": [],
   "source": [
    "# detect NANs\n",
    "df_corrupted = df_trips[df_trips.isna().any(axis=1)]\n",
    "\n",
    "# remove NANs\n",
    "df_trips.dropna(inplace=True)\n",
    "\n",
    "if len(df_corrupted.index) > 0:\n",
    "    print(\"Removed corrupted records:\")\n",
    "    display\n",
    "else:\n",
    "    print(\"No corrupted records found.\")"
   ]
  },
  {
   "cell_type": "code",
   "execution_count": null,
   "id": "b63cfff4",
   "metadata": {},
   "outputs": [],
   "source": [
    "df_trips.head()"
   ]
  },
  {
   "cell_type": "code",
   "execution_count": null,
   "id": "504a3dc4",
   "metadata": {},
   "outputs": [],
   "source": [
    "import holidays\n",
    "\n",
    "# Add Duration column in seconds\n",
    "df_trips['Duration'] = (df_trips['End date'] - df_trips['Start date']).dt.total_seconds() \n",
    "\n",
    "# Add Weekday column (Mon, Tue, Wed, Thu, Fri, Sat, Sun)\n",
    "df_trips['Weekday'] = df_trips['Start date'].dt.strftime('%a')\n",
    "\n",
    "# Add Holiday column (1 if holiday, 0 otherwise)\n",
    "us_holidays = holidays.US()\n",
    "df_trips['Holiday'] = df_trips['Start date'].apply(lambda date:date in us_holidays and '1' or '0')\n",
    "df_trips"
   ]
  },
  {
   "cell_type": "markdown",
   "id": "c6d023fa",
   "metadata": {},
   "source": [
    "## Filter Dataset\n",
    "\n",
    "The focus is on analyzing bike usage so records that could distort the statistics are removed. This includes very short trips, such as when a bike was only taken out and immediately docked again. Also very long trips, for example when a bike was rented for an entire night. Also rarely used and new stations are filtered out, since they play little role in the analysis."
   ]
  },
  {
   "cell_type": "code",
   "execution_count": null,
   "id": "f4d6772b",
   "metadata": {},
   "outputs": [],
   "source": [
    "# Remove trips shorter than 60 seconds\n",
    "countBefore = len(df_trips.index)\n",
    "df_trips = df_trips[~(df_trips['Duration'] < 60)] \n",
    "countAfter = len(df_trips.index)\n",
    "print(\"Remove trips shorter than 60 seconds: %d\" % (countBefore-countAfter))\n",
    "\n",
    "# filter trips with the same start and end station and duration less than 120 seconds\n",
    "countBefore = countAfter\n",
    "df_trips = df_trips[~((df_trips['Duration'] < 120) & (df_trips['Start station number'] == df_trips['End station number']))]\n",
    "countAfter = len(df_trips.index)\n",
    "print(\"Remove trips shorter than 120 seconds with same start and end station: %d\" % (countBefore-countAfter))\n",
    "\n",
    "\n",
    "# filter trips with duration longer than 20 hours \n",
    "countBefore = countAfter\n",
    "df_trips = df_trips[~(df_trips['Duration'] > 20*60*60)]\n",
    "countAfter = len(df_trips.index)\n",
    "print(\"Remove trips longer than 20 hours: %d\" % (countBefore-countAfter))\n",
    "\n",
    "# filter stations with less than 5000 starts\n",
    "countBefore = countAfter\n",
    "\n",
    "# get counts of starts per station\n",
    "station_counts = df_trips.groupby('Start station number').size()\n",
    "\n",
    "#filter stations with less than 5000 starts\n",
    "df_trips = df_trips[~df_trips['Start station number'].isin(station_counts[station_counts < 5000].keys())]\n",
    "countAfter = len(df_trips.index)\n",
    "print(\"Remove stations with less than 5000 starts: %d\" % (countBefore-countAfter))"
   ]
  },
  {
   "cell_type": "markdown",
   "id": "ffeffb73",
   "metadata": {},
   "source": [
    "After applying the filters the dataset is prepared for further analysis."
   ]
  },
  {
   "cell_type": "markdown",
   "id": "bc7b9463",
   "metadata": {},
   "source": [
    "## First Impression of the Dataset"
   ]
  },
  {
   "cell_type": "code",
   "execution_count": null,
   "id": "d7c4d619",
   "metadata": {},
   "outputs": [],
   "source": [
    "# check number of trips per year\n",
    "df_trips.groupby(df_trips['Start date'].dt.year).size()"
   ]
  },
  {
   "cell_type": "markdown",
   "id": "627b4a28",
   "metadata": {},
   "source": [
    "Use of bike-sharing services increased between 2015 and 2017."
   ]
  },
  {
   "cell_type": "code",
   "execution_count": null,
   "id": "348aedc3",
   "metadata": {},
   "outputs": [],
   "source": [
    "# check top 10 start stations\n",
    "df_trips.groupby('Start station').size().sort_values(ascending=False).head(10)"
   ]
  },
  {
   "cell_type": "markdown",
   "id": "a4cfd145",
   "metadata": {},
   "source": [
    "<img src=\"img/washington_dc_map.png\"/>\n",
    "Most of the busiest stations are located in the center of Washington D.C. near well-known landmarks, tourist attractions and residential areas."
   ]
  },
  {
   "cell_type": "code",
   "execution_count": null,
   "id": "a5c5ddf8",
   "metadata": {},
   "outputs": [],
   "source": [
    "# which day has the most trips\n",
    "tripsPerDay = df_trips.groupby(df_trips['Start date'].dt.date).size()\n",
    "print(\"Day with most trips: %s (%d trips)\" % (tripsPerDay.idxmax(), tripsPerDay.max()))"
   ]
  },
  {
   "cell_type": "code",
   "execution_count": null,
   "id": "d3db071e",
   "metadata": {},
   "outputs": [],
   "source": [
    "from plotly.offline import init_notebook_mode, iplot\n",
    "import plotly.graph_objects as go\n",
    "\n",
    "# initialize plotly for offline use in Jupyter Notebooks\n",
    "init_notebook_mode(connected=True)\n",
    "\n",
    "# create Year_month column for grouping\n",
    "df_trips['Year_month'] = df_trips['Start date'].dt.strftime('%Y_%m')\n",
    "\n",
    "# plot number of trips per month\n",
    "graphData = df_trips.groupby('Year_month').size()\n",
    "\n",
    "data = [go.Bar(\n",
    "    x=graphData.index,\n",
    "    y=graphData.values\n",
    ")]\n",
    "\n",
    "iplot(data)"
   ]
  },
  {
   "cell_type": "markdown",
   "id": "6e054d09",
   "metadata": {},
   "source": [
    "***Conclusion***\\\n",
    "This was a first impression of the bikesharing dataset. A clear upward trend in usage over time can be seen and the service is used most intensively in the central areas of Washington D.C."
   ]
  },
  {
   "cell_type": "markdown",
   "id": "23cfd552",
   "metadata": {},
   "source": [
    "## Trip Duration by Member Type"
   ]
  },
  {
   "cell_type": "code",
   "execution_count": null,
   "id": "37fb6fa6",
   "metadata": {},
   "outputs": [],
   "source": [
    "data = []\n",
    "\n",
    "# plot histogram of trip durations for each member type (only trips shorter than 60 minutes)\n",
    "for memberType in df_trips['Member type'].drop_duplicates():\n",
    "    data.append(go.Histogram(x = round(df_trips[(df_trips['Member type'] == memberType) & (df_trips['Duration'] <= 60 * 60)]['Duration'] / 60), name = memberType))\n",
    "\n",
    "iplot(data)"
   ]
  },
  {
   "cell_type": "markdown",
   "id": "2f7d72e4",
   "metadata": {},
   "source": [
    "<img src=\"img/price.png\"/>\n",
    "<img src=\"img/member.png\"/>\n",
    "\n",
    "Members use the service more intensively than Casual users. This is mainly due to the lower costs for Members. It also becomes clear that Members mostly rely on the service for short rides, while Casual users tend to take medium or longer trips."
   ]
  },
  {
   "cell_type": "markdown",
   "id": "f3f0b8c6",
   "metadata": {},
   "source": [
    "## Trips per Hour with Interactive Filters"
   ]
  },
  {
   "cell_type": "code",
   "execution_count": null,
   "id": "dd86d6c6",
   "metadata": {},
   "outputs": [],
   "source": [
    "import pandas as pd\n",
    "import plotly.graph_objects as go\n",
    "import ipywidgets as widgets\n",
    "from IPython.display import display\n",
    "\n",
    "# options for day filter\n",
    "DAY_OPTS = ['All', 'Working days', 'Weekend / Holidays']\n",
    "weekend = {'Sat', 'Sun'}\n",
    "\n",
    "# widgets\n",
    "member_opts = ['All'] + sorted(df_trips['Member type'].dropna().unique().tolist())\n",
    "w_member = widgets.Dropdown(options=member_opts, value='All', description='Filter:')\n",
    "w_day    = widgets.RadioButtons(options=DAY_OPTS, value='All', description='Days:')\n",
    "\n",
    "# plot\n",
    "fig = go.FigureWidget([go.Bar(x=list(range(24)), y=[0]*24)])\n",
    "fig.update_layout(title='Trips per hour', xaxis_title='Hour of day', yaxis_title='Trips')\n",
    "\n",
    "# function to compute series based on filters\n",
    "def compute_series(member, dayopt):\n",
    "    df = df_trips\n",
    "\n",
    "    # filter by member type\n",
    "    if member != 'All':\n",
    "        df = df[df['Member type'] == member]\n",
    "    if dayopt == 'Working days':\n",
    "        df = df[~df['Weekday'].isin(weekend) & (df['Holiday'] != 1)]\n",
    "    elif dayopt == 'Weekend / Holidays':\n",
    "        df = df[df['Weekday'].isin(weekend) | (df['Holiday'] == 1)]\n",
    "\n",
    "    s = df.groupby(df['Start date'].dt.hour).size()\n",
    "    return s.reindex(range(24), fill_value=0).sort_index()\n",
    "\n",
    "# update function for widgets\n",
    "def update(*_):\n",
    "    s = compute_series(w_member.value, w_day.value)\n",
    "    fig.data[0].y = s.values\n",
    "\n",
    "# attach update function to widgets\n",
    "w_member.observe(update, names='value')\n",
    "w_day.observe(update, names='value')\n",
    "\n",
    "# display widgets and plot\n",
    "display(w_day, w_member, fig)\n",
    "update()"
   ]
  },
  {
   "cell_type": "markdown",
   "id": "7daac57a",
   "metadata": {},
   "source": [
    "The analysis of these plots shows a clear distinction between Members and Casual users.\n",
    "\n",
    "Members show distinct peaks during the morning and evening rush hours. The usage climb to almost 900,000 trips in a single hour. This points to the service being heavily used for getting to and from work. The overall shorter trip durations fit well with the suggesting that bikes are primarily chosen for efficiency rather than leisure.\n",
    "\n",
    "Casual users on the other hand follow a different pattern. On weekdays there are no visible spikes around commuting times and their trips are spread more evenly across the day. This indicates that Casual users rarely depend on the system for work-related travel.\n",
    "\n",
    "On weekends and holidays both groups behave similarly. The trip distributions overlap closely reflecting that the service is then used more for leisure and recreation rather than commuting.\n",
    "\n",
    "Overall Members account for the majority of rides especially during working days, while Casuals become more present during non-working days."
   ]
  },
  {
   "cell_type": "markdown",
   "id": "fb8e4f3f",
   "metadata": {},
   "source": [
    "## Weather Data Integration"
   ]
  },
  {
   "cell_type": "code",
   "execution_count": null,
   "id": "f4265f8b",
   "metadata": {},
   "outputs": [],
   "source": [
    "import zipfile, json\n",
    "import pandas as pd\n",
    "\n",
    "# empty list to hold dataframes\n",
    "dfs = []\n",
    "\n",
    "# read all JSON files from the ZIP archive\n",
    "with zipfile.ZipFile(\"data/weather.zip\", \"r\") as z:\n",
    "    for name in z.namelist():\n",
    "        if name.endswith(\".json\"):\n",
    "            with z.open(name) as f:\n",
    "                data = json.load(f)['daily']['data']\n",
    "                dfs.append(pd.DataFrame(data))\n",
    "\n",
    "# concatenate all dataframes into a single dataframe\n",
    "df_weather = pd.concat(dfs, ignore_index=True, sort=True)\n",
    "# convert 'time' column from epoch to datetime\n",
    "df_weather['time'] = pd.to_datetime(df_weather['time'], unit='s')\n",
    "\n",
    "df_weather"
   ]
  },
  {
   "cell_type": "markdown",
   "id": "c9f64363",
   "metadata": {},
   "source": [
    "## Data Cleaning and Conversion\n",
    "\n",
    "Relevant columns are converted from Fahrenheit to Celsius and corrupted records with missing values are removed."
   ]
  },
  {
   "cell_type": "code",
   "execution_count": null,
   "id": "5d1fae99",
   "metadata": {},
   "outputs": [],
   "source": [
    "# convert columns in celsius\n",
    "convertToCelsius = ['apparentTemperatureHigh', 'apparentTemperatureLow', 'apparentTemperatureMax', 'apparentTemperatureMin', 'temperatureHigh', 'temperatureLow', 'temperatureMax', 'temperatureMin']\n",
    "\n",
    "# convert relevant columns from Fahrenheit to Celsius\n",
    "for col in convertToCelsius:\n",
    "    df_weather[col] = df_weather[col].apply(lambda F: 5/9*(F - 32))\n",
    "\n",
    "df_weather"
   ]
  },
  {
   "cell_type": "code",
   "execution_count": null,
   "id": "3b35cedd",
   "metadata": {},
   "outputs": [],
   "source": [
    "filterForNANs = ['apparentTemperatureHigh', 'apparentTemperatureHighTime', 'apparentTemperatureLow', 'apparentTemperatureLowTime', 'apparentTemperatureMax', 'apparentTemperatureMaxTime','apparentTemperatureMin', 'apparentTemperatureMinTime', 'icon', 'temperatureHigh', 'temperatureHighTime', 'temperatureLow', 'temperatureLowTime', 'temperatureMax','temperatureMaxTime', 'temperatureMin', 'temperatureMinTime', 'time']\n",
    "\n",
    "# determine columns with NANs\n",
    "df_corrupted = df_weather[df_weather[filterForNANs].isna().any(axis=1)]\n",
    "\n",
    "# delete NAN rows\n",
    "df_weather = df_weather[~df_weather[filterForNANs].isna().any(axis=1)]\n",
    "\n",
    "if len(df_corrupted.index) > 0:\n",
    "    print(\"Removed corrupted records:\")\n",
    "    display(df_corrupted)\n",
    "else:\n",
    "    print(\"No corrupted records found.\")"
   ]
  },
  {
   "cell_type": "markdown",
   "id": "52d076ae",
   "metadata": {},
   "source": [
    "## Trips and Weather Conditions\n",
    "\n",
    "Trips per day are merged with daily weather data. The average number of trips is then grouped by weather condition (icon)."
   ]
  },
  {
   "cell_type": "code",
   "execution_count": null,
   "id": "8adb6e2f",
   "metadata": {},
   "outputs": [],
   "source": [
    "# calculate number of trips per day\n",
    "df_tripsPerDay = pd.DataFrame( {'count' : df_trips.groupby(df_trips['Start date'].dt.date).size()}).reset_index().rename(columns={'Start date' : 'date'})\n",
    "# extract just the date (no time) from weather data\n",
    "df_weather['date'] = df_weather['time'].dt.date\n",
    "\n",
    "# merge trips per day with corresponding weather condition\n",
    "df_tripsPerDay = df_tripsPerDay.merge(df_weather[['icon', 'date']], on='date')\n",
    "# show average number of trips per weather condition\n",
    "df_tripsPerDay.groupby('icon', dropna=False)['count'].mean()"
   ]
  },
  {
   "cell_type": "code",
   "execution_count": null,
   "id": "78b5d883",
   "metadata": {},
   "outputs": [],
   "source": [
    "# convert 'date'-column to datetime\n",
    "df_tripsPerDay['date'] = pd.to_datetime(df_tripsPerDay['date'])\n",
    "\n",
    "# filter data for the year 2015\n",
    "graphData = df_tripsPerDay[df_tripsPerDay['date'].dt.year == 2015]\n",
    "\n",
    "# generate scatterplot with the above data\n",
    "data = [go.Scatter(x=graphData['date'], y=graphData['count'])]\n",
    "\n",
    "iplot(data)"
   ]
  },
  {
   "cell_type": "markdown",
   "id": "ed311258",
   "metadata": {},
   "source": [
    "**Outliers Explained**\n",
    "\n",
    "A scatter plot of trips per day in 2015 shows several spikes and drops that can be linked to specific events:\n",
    "<ul>\n",
    "    <li><p>\n",
    "        <b>11.04.15 (High): </b>Cherry Blossom Parade <a href=\"https://abcnews.go.com/US/cherry-blossoms-washington-dcs-amazing-trees/story?id=30279909\">Link</a> \n",
    "    </p></li>\n",
    "    </p></li>\n",
    "    <li><p>\n",
    "        <b>14.04.15 (Low): </b>Rain on the last day of the Cherry Blossom Day <a href=\"https://cherryblossomwatch.com/cherry-blossom-watch-update-april-14-2015/\">Link</a> \n",
    "    </p></li>\n",
    "    <li><p>\n",
    "        <b>18.04.15 (High): </b>Global Citizen Earth Day <a href=\"http://www.msnbc.com/msnbc/global-citizen-2015-earth-day#slide1\">Link</a> \n",
    "    </p></li>\n",
    "    <li><p>\n",
    "        <b>27.06.15 (Low): </b>Due to a stormy thunderstorm there were fewer cyclists <a href=\"https://www.washingtonpost.com/news/capital-weather-gang/wp/2015/06/27/severe-storms-possible-today-with-heavy-rain-flooding-strong-winds-updates/?utm_term=.52b28636a272\">Link</a>\n",
    "    </p></li>\n",
    "    <li><p>\n",
    "        <b>02.10.15 (Low): </b>Fewer cyclists due to thunderstorm and tornado warnings <a href=\"https://www.nbcwashington.com/weather/stories/Tornado-Touched-Down-in-Laurel-This-Week-NWS-Confirms-330441911.html\">Link</a></p>\n",
    "    </p></li>\n",
    "</ul>"
   ]
  },
  {
   "cell_type": "markdown",
   "id": "ddb8f7bb",
   "metadata": {},
   "source": [
    "## Temperature vs. Number of Trips\n",
    "\n",
    "A scatter plot comparing maximum daily temperature and number of trips (2015–2017) shows that people ride more often on warm days.\n",
    "In summer rides are more consistent, while in winter trip counts are more scattered."
   ]
  },
  {
   "cell_type": "code",
   "execution_count": null,
   "id": "449ea1f1",
   "metadata": {},
   "outputs": [],
   "source": [
    "# combine max temperature for 2015-2017\n",
    "df_tripsPerDay['date'] = df_tripsPerDay['date'].dt.date\n",
    "tripsPerTemperature = df_weather[['date', 'temperatureMax']].merge(df_tripsPerDay, on='date')\n",
    "\n",
    "# x axis shows highest temperature and y axis the number of trips in the period 2015-2017\n",
    "data = [go.Scatter(x=tripsPerTemperature['temperatureMax'], y=tripsPerTemperature['count'], mode=\"markers\")]\n",
    "\n",
    "iplot(data)"
   ]
  },
  {
   "cell_type": "markdown",
   "id": "8364d3f3",
   "metadata": {},
   "source": [
    "## Correlation\n",
    "The empirical correlation coefficient between maximum temperature and number of trips is calculated."
   ]
  },
  {
   "cell_type": "code",
   "execution_count": null,
   "id": "21d962f4",
   "metadata": {},
   "outputs": [],
   "source": [
    "import math\n",
    "\n",
    "# average values for highest temperature and number of trips\n",
    "meanTMax     = tripsPerTemperature['temperatureMax'].mean()\n",
    "meanCount    = tripsPerTemperature['count'].mean()\n",
    "\n",
    "# initialization of variables and partial calculation for the calculation of the empirical correlation coefficient\n",
    "zaehlSum     = 0\n",
    "nennSumLeft  = 0\n",
    "nennSumRight = 0\n",
    "for row in tripsPerTemperature.iterrows():\n",
    "    zaehlSum     += (row[1]['temperatureMax'] - meanTMax)  * (row[1]['count'] - meanCount)\n",
    "    nennSumLeft  += (row[1]['temperatureMax'] - meanTMax)  ** 2\n",
    "    nennSumRight += (row[1]['count']          - meanCount) ** 2\n",
    "\n",
    "# calculation of the empirical correlation coefficient and output\n",
    "empKorKoef = zaehlSum / math.sqrt(nennSumLeft * nennSumRight)\n",
    "empKorKoef"
   ]
  },
  {
   "cell_type": "markdown",
   "id": "50622483",
   "metadata": {},
   "source": [
    "Result: **0.807**\n",
    "\n",
    "This strong positive correlation shows that warmer days lead to significantly more bike trips. The closer the temperature gets to summer levels, the more consistently the service is used, while in colder months usage drops and becomes more irregular."
   ]
  },
  {
   "cell_type": "markdown",
   "id": "91b145cf",
   "metadata": {},
   "source": [
    "## Station Imbalance (Arrivals vs. Departures)"
   ]
  },
  {
   "cell_type": "code",
   "execution_count": null,
   "id": "7b4888a1",
   "metadata": {},
   "outputs": [],
   "source": [
    "# determine the number of arrivals and departures\n",
    "df_departure = pd.DataFrame(df_trips.groupby('Start station').size()).reset_index().rename(columns={'Start station' : 'Station', 0 : 'Departure'})\n",
    "df_arrival = pd.DataFrame(df_trips.groupby('End station').size()).reset_index().rename(columns={'End station' : 'Station', 0 : 'Arrival'})\n",
    "\n",
    "# combine arrivals and departures with stations\n",
    "df_arrdeparture = df_arrival.merge(df_departure, on='Station', how='outer').fillna(0)\n",
    "\n",
    "# calculate the difference to see how many bicycles were taken and returned.\n",
    "df_arrdeparture['Difference'] = df_arrdeparture['Arrival'] - df_arrdeparture['Departure']\n",
    "\n",
    "# Sort the table by difference\n",
    "df_arrdeparture.sort_values(by=['Difference'])"
   ]
  },
  {
   "cell_type": "markdown",
   "id": "a59a9270",
   "metadata": {},
   "source": [
    "To get an initial understanding of the imbalance a dataframe was created showing for each station whether departures or arrivals dominated over the whole period.\n",
    "\n",
    "- Negative values → more departures than arrivals\n",
    "- Positive values → more arrivals than departures\n",
    "\n",
    "Deficits are mostly found in residential areas, while surpluses in arrivals occur mainly at stations close to office districts and tourist attractions."
   ]
  },
  {
   "cell_type": "markdown",
   "id": "fdc5400d",
   "metadata": {},
   "source": [
    "## Daily Imbalances per Station"
   ]
  },
  {
   "cell_type": "code",
   "execution_count": null,
   "id": "61f243f7",
   "metadata": {},
   "outputs": [],
   "source": [
    "from ipywidgets import interact\n",
    "\n",
    "# new dataframe with TripsPerDayPerStation Start\n",
    "df_tpDpSStart = pd.DataFrame(df_trips.groupby([df_trips.rename(columns={'Start station' : 'Station'})['Station'], df_trips.rename(columns={ 'Start date' : 'Date'})['Date'].dt.date]).size())\n",
    "df_tpDpSStart = df_tpDpSStart.rename(columns={0 : 'Starts'}).reset_index()\n",
    "\n",
    "# new dataframe with TripsPerDayPerStation End\n",
    "df_tpDpSEnd = pd.DataFrame(df_trips.groupby([df_trips.rename(columns={'End station' : 'Station'})['Station'], df_trips.rename(columns={ 'End date' : 'Date'})['Date'].dt.date]).size())\n",
    "df_tpDpSEnd = df_tpDpSEnd.rename(columns={0 : 'Ends'}).reset_index()\n",
    "\n",
    "# merge both dataframes\n",
    "df_tpDpSE = df_tpDpSStart.merge(df_tpDpSEnd, on = ['Station', 'Date']).fillna(0)\n",
    "df_tpDpSE['Diff'] = df_tpDpSE['Ends'] - df_tpDpSE['Starts']\n",
    "df_tpDpSE = df_tpDpSE.sort_values(by='Diff')\n",
    "\n",
    "# dropdown to select station\n",
    "graphData = {}\n",
    "dropDownItems =  df_tpDpSE['Station'].drop_duplicates().sort_values()\n",
    "\n",
    "for station in dropDownItems:\n",
    "    data = df_tpDpSE[df_tpDpSE['Station'] == station].sort_values(by='Date')\n",
    "    graphData.update( {station : go.Scatter(x=data['Date'], y=data['Diff'], name=station)})\n",
    "    \n",
    "def dropDownChanged(selection):\n",
    "    iplot([graphData[selection]])\n",
    "\n",
    "dropDown = interact(dropDownChanged, selection = dropDownItems)"
   ]
  },
  {
   "cell_type": "markdown",
   "id": "9e7c3106",
   "metadata": {},
   "source": [
    "Breaking down the data further a scatterplot was created showing the daily imbalance per station. A dropdown menu allows filtering by station making it possible to observe the effect of imbalances across the whole period. This also highlights the impact of nearby events and allows outliers to be explained.\n",
    "\n",
    "- Jan 21, 2017 (High): Women’s March on Washington causing a spike at E St SW & 4th St SW close to Independence Ave SW. Other nearby stations were also affected.\n",
    "\n",
    "- Apr 11, 2015 (High): Strong spike visible at Ohio Dr & West Basin Dr SW.\n",
    "\n",
    "- Sep 16, 2017 (High): Gathering of Trump supporters at the Washington Mall."
   ]
  },
  {
   "cell_type": "markdown",
   "id": "eb534a79",
   "metadata": {},
   "source": [
    "## Conclusion and Recommendations\n",
    "\n",
    "The analysis shows that the Capital Bikeshare system experiences clear imbalances across its stations.\n",
    "\n",
    "- Residential areas often show deficits with more departures than arrivals.\n",
    "\n",
    "- Office districts and tourist locations typically show surpluses as many riders end their trips there.\n",
    "\n",
    "- Events such as marches, parades, or political gatherings can cause strong short-term spikes at nearby stations.\n",
    "\n",
    "**Recommendations:**\n",
    "\n",
    "- Dynamic bike redistribution: Move bikes proactively from residential areas to central office/tourist stations in the morning and shift them back in the evening.\n",
    "\n",
    "- Event-based planning: Identify major events in advance (e.g. parades, political rallies, festivals) and pre-distribute bikes to nearby stations.\n",
    "\n",
    "- Pricing incentives: Offer reduced evening rates or special promotions for members to encourage bike use for return trips helping to reduce deficits at residential stations.\n",
    "\n",
    "- Introduce e-bikes: Providing more e-bikes can motivate riders to take bikes for the way home instead of switching to public transport when they are tired.\n",
    "\n",
    "Overall these measures can reduce imbalances and improve availability for all users. Also the service gets more reliable."
   ]
  },
  {
   "cell_type": "code",
   "execution_count": null,
   "id": "95a064ac",
   "metadata": {},
   "outputs": [],
   "source": []
  }
 ],
 "metadata": {
  "kernelspec": {
   "display_name": "data_analytics",
   "language": "python",
   "name": "python3"
  },
  "language_info": {
   "codemirror_mode": {
    "name": "ipython",
    "version": 3
   },
   "file_extension": ".py",
   "mimetype": "text/x-python",
   "name": "python",
   "nbconvert_exporter": "python",
   "pygments_lexer": "ipython3",
   "version": "3.9.23"
  }
 },
 "nbformat": 4,
 "nbformat_minor": 5
}
